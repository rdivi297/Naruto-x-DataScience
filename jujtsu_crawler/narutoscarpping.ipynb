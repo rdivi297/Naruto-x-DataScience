{
 "cells": [
  {
   "cell_type": "code",
   "execution_count": 8,
   "id": "d198fec3",
   "metadata": {},
   "outputs": [
    {
     "name": "stdout",
     "output_type": "stream",
     "text": [
      "Requirement already satisfied: scrapy in ./anaconda3/lib/python3.11/site-packages (2.8.0)\n",
      "Requirement already satisfied: Twisted>=18.9.0 in ./anaconda3/lib/python3.11/site-packages (from scrapy) (22.10.0)\n",
      "Requirement already satisfied: cryptography>=3.4.6 in ./anaconda3/lib/python3.11/site-packages (from scrapy) (39.0.1)\n",
      "Requirement already satisfied: cssselect>=0.9.1 in ./anaconda3/lib/python3.11/site-packages (from scrapy) (1.1.0)\n",
      "Requirement already satisfied: itemloaders>=1.0.1 in ./anaconda3/lib/python3.11/site-packages (from scrapy) (1.0.4)\n",
      "Requirement already satisfied: parsel>=1.5.0 in ./anaconda3/lib/python3.11/site-packages (from scrapy) (1.6.0)\n",
      "Requirement already satisfied: pyOpenSSL>=21.0.0 in ./anaconda3/lib/python3.11/site-packages (from scrapy) (23.0.0)\n",
      "Requirement already satisfied: queuelib>=1.4.2 in ./anaconda3/lib/python3.11/site-packages (from scrapy) (1.5.0)\n",
      "Requirement already satisfied: service-identity>=18.1.0 in ./anaconda3/lib/python3.11/site-packages (from scrapy) (18.1.0)\n",
      "Requirement already satisfied: w3lib>=1.17.0 in ./anaconda3/lib/python3.11/site-packages (from scrapy) (1.21.0)\n",
      "Requirement already satisfied: zope.interface>=5.1.0 in ./anaconda3/lib/python3.11/site-packages (from scrapy) (5.4.0)\n",
      "Requirement already satisfied: protego>=0.1.15 in ./anaconda3/lib/python3.11/site-packages (from scrapy) (0.1.16)\n",
      "Requirement already satisfied: itemadapter>=0.1.0 in ./anaconda3/lib/python3.11/site-packages (from scrapy) (0.3.0)\n",
      "Requirement already satisfied: setuptools in ./anaconda3/lib/python3.11/site-packages (from scrapy) (67.8.0)\n",
      "Requirement already satisfied: packaging in ./anaconda3/lib/python3.11/site-packages (from scrapy) (23.0)\n",
      "Requirement already satisfied: tldextract in ./anaconda3/lib/python3.11/site-packages (from scrapy) (3.2.0)\n",
      "Requirement already satisfied: lxml>=4.3.0 in ./anaconda3/lib/python3.11/site-packages (from scrapy) (4.9.2)\n",
      "Requirement already satisfied: PyDispatcher>=2.0.5 in ./anaconda3/lib/python3.11/site-packages (from scrapy) (2.0.5)\n",
      "Requirement already satisfied: cffi>=1.12 in ./anaconda3/lib/python3.11/site-packages (from cryptography>=3.4.6->scrapy) (1.15.1)\n",
      "Requirement already satisfied: jmespath>=0.9.5 in ./anaconda3/lib/python3.11/site-packages (from itemloaders>=1.0.1->scrapy) (0.10.0)\n",
      "Requirement already satisfied: six>=1.6.0 in ./anaconda3/lib/python3.11/site-packages (from parsel>=1.5.0->scrapy) (1.16.0)\n",
      "Requirement already satisfied: attrs>=16.0.0 in ./anaconda3/lib/python3.11/site-packages (from service-identity>=18.1.0->scrapy) (22.1.0)\n",
      "Requirement already satisfied: pyasn1-modules in ./anaconda3/lib/python3.11/site-packages (from service-identity>=18.1.0->scrapy) (0.2.8)\n",
      "Requirement already satisfied: pyasn1 in ./anaconda3/lib/python3.11/site-packages (from service-identity>=18.1.0->scrapy) (0.4.8)\n",
      "Requirement already satisfied: constantly>=15.1 in ./anaconda3/lib/python3.11/site-packages (from Twisted>=18.9.0->scrapy) (15.1.0)\n",
      "Requirement already satisfied: incremental>=21.3.0 in ./anaconda3/lib/python3.11/site-packages (from Twisted>=18.9.0->scrapy) (21.3.0)\n",
      "Requirement already satisfied: Automat>=0.8.0 in ./anaconda3/lib/python3.11/site-packages (from Twisted>=18.9.0->scrapy) (20.2.0)\n",
      "Requirement already satisfied: hyperlink>=17.1.1 in ./anaconda3/lib/python3.11/site-packages (from Twisted>=18.9.0->scrapy) (21.0.0)\n",
      "Requirement already satisfied: typing-extensions>=3.6.5 in ./anaconda3/lib/python3.11/site-packages (from Twisted>=18.9.0->scrapy) (4.6.3)\n",
      "Requirement already satisfied: idna in ./anaconda3/lib/python3.11/site-packages (from tldextract->scrapy) (3.4)\n",
      "Requirement already satisfied: requests>=2.1.0 in ./anaconda3/lib/python3.11/site-packages (from tldextract->scrapy) (2.29.0)\n",
      "Requirement already satisfied: requests-file>=1.4 in ./anaconda3/lib/python3.11/site-packages (from tldextract->scrapy) (1.5.1)\n",
      "Requirement already satisfied: filelock>=3.0.8 in ./anaconda3/lib/python3.11/site-packages (from tldextract->scrapy) (3.9.0)\n",
      "Requirement already satisfied: pycparser in ./anaconda3/lib/python3.11/site-packages (from cffi>=1.12->cryptography>=3.4.6->scrapy) (2.21)\n",
      "Requirement already satisfied: charset-normalizer<4,>=2 in ./anaconda3/lib/python3.11/site-packages (from requests>=2.1.0->tldextract->scrapy) (2.0.4)\n",
      "Requirement already satisfied: urllib3<1.27,>=1.21.1 in ./anaconda3/lib/python3.11/site-packages (from requests>=2.1.0->tldextract->scrapy) (1.26.16)\n",
      "Requirement already satisfied: certifi>=2017.4.17 in ./anaconda3/lib/python3.11/site-packages (from requests>=2.1.0->tldextract->scrapy) (2023.5.7)\n",
      "Note: you may need to restart the kernel to use updated packages.\n"
     ]
    }
   ],
   "source": [
    "pip install scrapy\n"
   ]
  },
  {
   "cell_type": "code",
   "execution_count": 17,
   "id": "62bf578c",
   "metadata": {},
   "outputs": [],
   "source": [
    "import scrapy\n",
    "from bs4 import BeautifulSoup"
   ]
  },
  {
   "cell_type": "code",
   "execution_count": 20,
   "id": "e8880819",
   "metadata": {},
   "outputs": [],
   "source": [
    "class BlogSpider(scrapy.Spider):\n",
    "    name = 'blogspider'\n",
    "    start_urls = ['https://naruto.fandom.com/wiki/Special:BrowseData/Jutsu?limit=250&offset=0&_cat=Jutsu']\n",
    "\n",
    "    def parse(self, response):\n",
    "        for href in response.css('div.smw-columnlist-container')[0].css('a::attr(href)').extract():\n",
    "           extracteddata=scrapy.Request(\"https://naruto.fandom.com\"+href, callback=self.parse_jutsu)\n",
    "           return extracteddata\n",
    "\n",
    "        for next_page in response.css('a.mw-nextlink'):\n",
    "           yield response.follow(next_page, self.parse)\n",
    "            \n",
    "    def parse_jutsu(self,response):\n",
    "        jutsuname=response.css('h1.page_header_title::text').extract()[0]\n",
    "        jutsuname=justuname.strip()\n",
    "        div_selector=response.css('div.mw-parser-output')[0]\n",
    "        div_html=div_selector.extract()\n",
    "        soup= BeautifulSoup(div_html).find('div')\n",
    "        if soup.find('div',{'id':'quiz_module_desktop_placement_styles'}):\n",
    "            soup.find('div',{'id':'quiz_module_desktop_placement_styles'}).decompose()\n",
    "        \n",
    "        if soup.find('h2',{'id':'quiz_module_destkop_header_styles'}):\n",
    "            soup.find('h2',{'id':'quiz_module_destkop_header_styles'}).decompose()\n",
    "        \n",
    "        if soup.find('a',{'id':'quiz_module_desktop_link_styles'}):\n",
    "            soup.find('a',{'id':'quiz_module_desktop_link_styles'}).decompose()\n",
    "        \n",
    "        jutsu_type=\"\"\n",
    "        if soup.find('aside'):\n",
    "            aside= soup.find('aside')\n",
    "            for cell in aside.find_all('div',{'class':'pi-data'}):\n",
    "                if cell.find('h3'):\n",
    "                    cell_name = cell.find('h3').text.strip()\n",
    "                    if cell_name=='Classification':\n",
    "                        jutsu_type = cell.find('div').text.strip()\n",
    "\n",
    "            soup.find('aside').decompose()\n",
    "        jutsu_description = soup.text\n",
    "        jutsu_description = jutsu_description.split('Trivia')[0].strip()\n",
    "\n",
    "        yield dict(\n",
    "            jutsuname=jutsuname,\n",
    "        )"
   ]
  },
  {
   "cell_type": "code",
   "execution_count": null,
   "id": "9495d522",
   "metadata": {},
   "outputs": [],
   "source": []
  }
 ],
 "metadata": {
  "kernelspec": {
   "display_name": "Python 3 (ipykernel)",
   "language": "python",
   "name": "python3"
  },
  "language_info": {
   "codemirror_mode": {
    "name": "ipython",
    "version": 3
   },
   "file_extension": ".py",
   "mimetype": "text/x-python",
   "name": "python",
   "nbconvert_exporter": "python",
   "pygments_lexer": "ipython3",
   "version": "3.11.3"
  }
 },
 "nbformat": 4,
 "nbformat_minor": 5
}
